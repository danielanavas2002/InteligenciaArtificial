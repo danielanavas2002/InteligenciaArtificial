{
 "cells": [
  {
   "cell_type": "markdown",
   "metadata": {},
   "source": [
    "# **Laboratorio 6**\n",
    "**Daniela Navas**\n",
    "\n",
    "## **Task 1** - Teoría\n",
    "\n",
    "**Responda las siguientes preguntas de forma clara y concisa, pueden subir un PDF o bien dentro del mismo Jupyter Notebook.**<br> \n",
    "**1. En un juego de suma cero para dos jugadores, ¿cómo funciona el algoritmo minimax para determinar la estrategia óptima para cada jugador? ¿Puede explicarnos el concepto de \"valor minimax\" y su importancia en este contexto?**<br>\n",
    "Como bien sabemos, el algoritmo minimax es una técnica utilizada en teoría de juegos para encontrar la mejor estrategia en juegos de suma cero con información perfecta, como el ajedrez o el tres en raya. Se basa en la suposición de que ambos jugadores actúan de manera óptima, el jugador **MAX** busca maximizar su ganancia y el jugador **MIN** busca minimizar la ganancia de MAX.  \n",
    "\n",
    "El **valor minimax** de un nodo en el árbol de juego es el mejor valor que un jugador puede garantizarse suponiendo que su oponente juega de manera óptima. Se calcula de manera recursiva; en los **nodos terminales**, se asigna el valor según la recompensa del juego, en los **nodos MAX**, se elige el máximo valor de los nodos hijos y en los **nodos MIN**, se elige el mínimo valor de los nodos hijos. Este valor es crucial porque indica el resultado esperado del juego si ambos jugadores juegan de manera óptima desde ese punto en adelante.  \n",
    "\n",
    "\n",
    "**2. Compare y contraste el algoritmo minimax con la poda alfa-beta. ¿Cómo mejora la poda alfa-beta la eficiencia del algoritmo minimax, particularmente en árboles de caza grandes? Proporcione un ejemplo para ilustrar la diferencia en la complejidad computacional entre la poda minimax y alfa-beta.**<br>\n",
    "El principal inconveniente del algoritmo minimax es su alto costo computacional. En un árbol de búsqueda con profundidad \\( d \\) y un factor de ramificación \\( b \\), su complejidad es: $ O(b^d) $\n",
    "\n",
    "La **poda alfa-beta** es una optimización que reduce la cantidad de nodos evaluados sin afectar el resultado final del minimax. Esta técnica se basa en dos parámetros clave:\n",
    "\n",
    "- **Alfa** ($\\alpha$): Representa el mejor valor que el jugador MAX puede garantizarse en un camino determinado.  \n",
    "- **Beta** ($\\beta$):: Representa el mejor valor que el jugador MIN puede garantizarse en un camino determinado.  \n",
    "\n",
    "El principio fundamental de esta poda es que si un nodo MIN encuentra un hijo con un valor inferior a \\( \\alpha \\), no es necesario seguir explorando, ya que MAX nunca optará por ese camino. De manera similar, si un nodo MAX encuentra un hijo con un valor superior a \\( \\beta \\), MIN descartará esa opción.\n",
    "\n",
    "**Ejemplo**\n",
    "\n",
    "**Sin** poda alfa-beta, un árbol con \\( b = 3 \\) y \\( d = 4 \\) evaluaría: $ 3^4 = 81 $ nodos. Pero **con** poda alfa-beta, el número de nodos evaluados podría reducirse aproximadamente a $ \\approx 41 $ nodos dependiendo del orden de evaluación, logrando una mejora cercana a $ O(b^{d/2}) $\n",
    "\n",
    "\n",
    "**3. ¿Cuál es el papel de expectiminimax en juegos con incertidumbre, como aquellos que involucran nodos de azar o información oculta? ¿En qué se diferencia el expectiminimax del minimax en el manejo de resultados probabilísticos y cuáles son los desafíos clave que aborda?**<br>\n",
    "El **expectiminimax** es una extensión de minimax para juegos que incluyen elementos de azar, como los dados en backgammon o distribución de cartas en póker. Además de los nodos MAX y MIN, introduce **nodos de azar**, que representan eventos aleatorios con probabilidades conocidas.  \n",
    "\n",
    "En minimax, los nodos MAX y MIN eligen el valor máximo o mínimo de sus hijos. Mientras que, en expectiminimax, los nodos de azar calculan el valor esperado ponderando los valores de los hijos por sus probabilidades de ocurrencia.  \n",
    "\n",
    "Los desafios principales son la complejidad computacional ya que es aún mayor que minimax debido a la introducción de nodos de azar; y la dependencia de información probabilística precisa, lo cual puede ser difícil en juegos con incertidumbre oculta.  "
   ]
  }
 ],
 "metadata": {
  "language_info": {
   "name": "python"
  }
 },
 "nbformat": 4,
 "nbformat_minor": 2
}
