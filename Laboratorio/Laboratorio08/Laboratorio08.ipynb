{
 "cells": [
  {
   "cell_type": "markdown",
   "metadata": {},
   "source": [
    "# **Laboratorio 8**\n",
    "**Daniela Navas**\n",
    "\n",
    "## **Task 1** - Teoría\n",
    "\n",
    "**Responda las siguientes preguntas de forma clara y concisa, pueden subir un PDF o bien dentro del mismo Jupyter Notebook.**<br> \n",
    "**1. Investigar el algoritmo AC-3 y su relación con el algoritmo de backtracking search**<br>\n",
    "El algoritmo AC-3 (Arc Consistency Algorithm #3) es un método utilizado en problemas de satisfacción de restricciones (CSPs). Fue desarrollado por Alan Mackworth en 19771. Su objetivo es asegurar que cada valor en el dominio de una variable tenga un valor correspondiente en el dominio de otra variable que satisfaga la restricción entre ellas.\n",
    "\n",
    "Su **relación con backtracking search** es que AC-3 se utiliza para reducir los dominios de las variables antes de aplicar el backtracking. Esto significa que elimina valores que no pueden formar parte de ninguna solución válida, simplificando el problema. Backtracking search es un método de búsqueda que prueba diferentes combinaciones de valores para las variables y retrocede cuando encuentra una combinación que no cumple con las restricciones. Al combinar AC-3 con backtracking, se puede mejorar la eficiencia del proceso de búsqueda, ya que AC-3 reduce el espacio de búsqueda eliminando valores inconsistentes antes de que el backtracking comience2.\n",
    "\n",
    "**2. Defina en sus propias palabras el término “Arc Consistency”**<br>\n",
    "La consistencia de arco (Arc Consistency) se refiere a una propiedad en problemas de satisfacción de restricciones donde, para cada valor de una variable en su dominio, existe al menos un valor en el dominio de otra variable que satisface la restricción entre ellas. En palabras sencillas, un arco entre dos variables es consistente si todos los valores posibles de una variable tienen un valor correspondiente en la otra variable que cumple con la restricción."
   ]
  }
 ],
 "metadata": {
  "language_info": {
   "name": "python"
  }
 },
 "nbformat": 4,
 "nbformat_minor": 2
}
