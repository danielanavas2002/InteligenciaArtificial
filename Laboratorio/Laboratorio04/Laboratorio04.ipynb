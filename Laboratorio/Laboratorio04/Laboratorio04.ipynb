{
 "cells": [
  {
   "cell_type": "markdown",
   "metadata": {},
   "source": [
    "# **Laboratorio 4**\n",
    "**Daniela Navas**\n",
    "\n",
    "## **Task 1** - Preguntas Teóricas\n",
    "\n",
    "**Responda a cada de las siguientes preguntas de forma clara y lo más completamente posible.**<br> \n",
    "**1. Explique con sus propias palabras, qué son los grafos computaciones y cuál es su importancia para el cálculo de gradientes en aplicaciones como backpropagation**<br>\n",
    "Los grafos computacionales son estructuras que representan relaciones entre variables y operaciones en forma de nodos y arcos. Cada nodo puede representar una operación matemática o una variable, mientras que los arcos indican la dirección del flujo de datos entre estas operaciones. Esta estructura es fundamental en el contexto de redes neuronales, especialmente para el algoritmo de backpropagation, que se utiliza para entrenar modelos ajustando sus parámetros a través del cálculo de gradientes. La importancia de los grafos computacionales en el cálculo de gradientes radica en su capacidad para facilitar la implementación del método de la cadena. Este método permite calcular gradientes de manera eficiente al propagar el error hacia atrás a través de la red, ajustando así los pesos y sesgos para minimizar la función de pérdida. En cada paso, se evalúan las derivadas parciales de la función de error con respecto a cada peso, lo que es esencial para optimizar el rendimiento del modelo. En backpropagation, los grafos computacionales son esenciales porque permiten estructurar la propagación de los gradientes de manera eficiente. Cada operación dentro de una red neuronal (como sumas, multiplicaciones, funciones de activación) se representa como un nodo en el grafo.\n",
    "\n",
    "\n",
    "**2. Detalle cuales son los componentes y pasos que conforman una red neuronal. Con esto en mente, ¿cómo mejoraría el perceptrón que hizo en el laboratorio pasado?**<br>\n",
    "Una red neuronal está compuesta por varios elementos clave:\n",
    "- **Capas:** Incluyen la capa de entrada, capas ocultas y la capa de salida.\n",
    "- **Neuronas:** Cada capa contiene neuronas que realizan cálculos a partir de las entradas.\n",
    "- **Pesos y Sesgos:** Cada conexión entre neuronas tiene un peso asociado y cada neurona puede tener un sesgo.\n",
    "- **Funciones de Activación:** Estas funciones determinan si una neurona se activa o no, influyendo en la salida.\n",
    "\n",
    "Pasos en el Funcionamiento de una Red Neuronal:<br>\n",
    "1. **Inicialización:** Se establecen los pesos y sesgos iniciales.\n",
    "2. **Propagación Hacia Adelante:** Se calculan las salidas a partir de las entradas utilizando los pesos y funciones de activación.\n",
    "3. **Cálculo del Error:** Se compara la salida predicha con la salida real para determinar el error.\n",
    "4. **Backpropagation:** Se ajustan los pesos y sesgos en función del error calculado.\n",
    "5. **Iteración:** Se repiten los pasos hasta que el error sea mínimo.\n",
    "\n",
    "Para mejorar el perceptrón desarrollado en el laboratorio anterior, se podría considerar agregar capas ocultas adicionales y utilizar funciones de activación más complejas como ReLU o Sigmoide, lo que permitiría a la red aprender patrones más complejos en los datos.\n",
    "\n",
    "\n",
    "**3. Investigue y explique cómo se selecciona el valor K usando el método de la silueta para el algoritmo de KMeans. Explique las fórmulas (ecuaciones) que lo componen así como las asumpciones, si hay.**<br> \n",
    "El método de la silueta es una métrica utilizada para evaluar la calidad de un clustering y determinar el mejor número de clusters (**K**) en **K-Means**. Se basa en medir qué tan bien cada punto está agrupado con los de su mismo cluster y qué tan separado está de otros clusters.\n",
    "\n",
    "**Fórmula del coeficiente de silueta para un punto \\(i\\)**\n",
    "Para cada punto \\(i\\), el coeficiente de silueta \\(S(i)\\) se calcula como:\n",
    "\n",
    "$$\n",
    "S(i) = \\frac{b(i) - a(i)}{\\max(a(i), b(i))}\n",
    "$$\n",
    "\n",
    "Donde:\n",
    "- \\( a(i) \\) es la **distancia promedio** de \\( i \\) a los otros puntos dentro de su mismo cluster.\n",
    "- \\( b(i) \\) es la **distancia promedio** de \\( i \\) al cluster más cercano (del cual no forma parte).\n",
    "\n",
    "**Cálculo del coeficiente de silueta promedio**\n",
    "Para evaluar el clustering en general, se obtiene el promedio de todos los coeficientes de silueta:\n",
    "\n",
    "$$\n",
    "S = \\frac{1}{N} \\sum_{i=1}^{N} S(i)\n",
    "$$\n",
    "\n",
    "Donde \\( N \\) es el número total de puntos.\n",
    "\n",
    "**Proceso para seleccionar \\(K\\)**\n",
    "1. Ejecutar **K-Means** con distintos valores de \\(K\\).\n",
    "2. Para cada \\(K\\), calcular el **coeficiente de silueta promedio** \\( S \\).\n",
    "3. **Elegir el valor de \\(K\\) que maximiza \\(S\\)**, ya que indica mejor separación entre clusters.\n",
    "\n",
    "**Asunciones del método**\n",
    "- Se asume que los clusters son aproximadamente esféricos y de tamaño similar.\n",
    "- Es sensible a outliers si no se preprocesan los datos adecuadamente.\n",
    "\n",
    "\n",
    "**4. Investigue sobre Principal Component Analysis (PCA) y responda respecto a algoritmos como K-Means:**<br> \n",
    "**a. ¿Cómo podría ayudarle a mejorar la calidad de sus clusters cuando se usa K-Means?**<br> \n",
    "El Análisis de Componentes Principales (PCA) es una técnica utilizada para reducir la dimensionalidad de los datos mientras se preserva la mayor varianza posible. Al aplicar PCA antes del algoritmo K-Means, se pueden obtener varias ventajas:\n",
    "- **Reducción del Ruido:** Al eliminar dimensiones menos significativas, PCA puede ayudar a mejorar la calidad general del clustering al reducir el ruido presente en los datos.\n",
    "- **Mejora del Rendimiento:** La reducción dimensional puede acelerar significativamente el tiempo de computación del algoritmo K-Means al disminuir el número total de características a considerar.\n",
    "- **Visualización Mejorada:** PCA permite visualizar datos multidimensionales en dos o tres dimensiones, facilitando la interpretación visual de los clústeres formados.\n",
    "\n",
    "--- \n",
    "## **Task 2** - Ejercicios Prácticos<br> \n",
    "Use Python en Jupyter Notebook para resolver los siguientes problemas relacionados a los temas que se vieron en clase. Asegúrese de citar todas las fuentes que utilice. Para todos los subtasks de esta parte **minimize el uso de herramientas de AI generativas (ChatGPT).**\n",
    "\n",
    "### **Task 2.1** - K-Means y Segmentación de Clientes de Banco<br>\n",
    "Deberá construir un modelo basado en aprendizaje **no** supervisado para el dataset dado. Lo que se busca con este modelo es poder segmentar a clientes de una entidad bancaria para poder así tomar decisiones a nivel comercial y potenciar las operaciones de la empresa. Recuerden que: \n",
    "- Deben hacer una breve exploración con los datos. Esto implica, pero no está limitado a: \n",
    "    - Hacer encoding de las variables que se necesiten \n",
    "    - Revisar si el dataset está balanceado, caso no estarlo, aplicar alguna técnica para balancearlo lo más y mejor posible (¿se necesita balance en este tipo de problemas?) \n",
    "    - Escalar las variables si considera necesario \n",
    "    - Selección de variables \n",
    "- Recuerde definir de forma clara y razonada (es decir, diga el por qué de su elección) de una métrica de desempeño principal"
   ]
  },
  {
   "cell_type": "code",
   "execution_count": 72,
   "metadata": {},
   "outputs": [
    {
     "name": "stdout",
     "output_type": "stream",
     "text": [
      "<class 'pandas.core.frame.DataFrame'>\n",
      "RangeIndex: 1048567 entries, 0 to 1048566\n",
      "Data columns (total 9 columns):\n",
      " #   Column                   Non-Null Count    Dtype  \n",
      "---  ------                   --------------    -----  \n",
      " 0   TransactionID            1048567 non-null  object \n",
      " 1   CustomerID               1048567 non-null  object \n",
      " 2   CustomerDOB              1045170 non-null  object \n",
      " 3   CustGender               1047467 non-null  object \n",
      " 4   CustLocation             1048416 non-null  object \n",
      " 5   CustAccountBalance       1046198 non-null  float64\n",
      " 6   TransactionDate          1048567 non-null  object \n",
      " 7   TransactionTime          1048567 non-null  int64  \n",
      " 8   TransactionAmount (INR)  1048567 non-null  float64\n",
      "dtypes: float64(2), int64(1), object(6)\n",
      "memory usage: 72.0+ MB\n"
     ]
    },
    {
     "data": {
      "text/plain": [
       "TransactionID                 0\n",
       "CustomerID                    0\n",
       "CustomerDOB                3397\n",
       "CustGender                 1100\n",
       "CustLocation                151\n",
       "CustAccountBalance         2369\n",
       "TransactionDate               0\n",
       "TransactionTime               0\n",
       "TransactionAmount (INR)       0\n",
       "dtype: int64"
      ]
     },
     "execution_count": 72,
     "metadata": {},
     "output_type": "execute_result"
    }
   ],
   "source": [
    "import numpy as np\n",
    "import pandas as pd \n",
    "import matplotlib.pyplot as plt\n",
    "import matplotlib.cm as cm\n",
    "import seaborn as sns\n",
    "\n",
    "# Importar base de datos\n",
    "df=pd.read_csv(\"bank_transactions.csv\")\n",
    "\n",
    "# Analizar estructura\n",
    "df.info()\n",
    "df.isna().sum()"
   ]
  },
  {
   "cell_type": "markdown",
   "metadata": {},
   "source": [
    "La proporción de datos vacios (3397) es relativamente muy poca en comparación con el total de observaciones (1048567), por ende se procede a eliminarlos."
   ]
  },
  {
   "cell_type": "code",
   "execution_count": 73,
   "metadata": {},
   "outputs": [
    {
     "name": "stdout",
     "output_type": "stream",
     "text": [
      "<class 'pandas.core.frame.DataFrame'>\n",
      "Index: 1041614 entries, 0 to 1048566\n",
      "Data columns (total 9 columns):\n",
      " #   Column                   Non-Null Count    Dtype  \n",
      "---  ------                   --------------    -----  \n",
      " 0   TransactionID            1041614 non-null  object \n",
      " 1   CustomerID               1041614 non-null  object \n",
      " 2   CustomerDOB              1041614 non-null  object \n",
      " 3   CustGender               1041614 non-null  object \n",
      " 4   CustLocation             1041614 non-null  object \n",
      " 5   CustAccountBalance       1041614 non-null  float64\n",
      " 6   TransactionDate          1041614 non-null  object \n",
      " 7   TransactionTime          1041614 non-null  int64  \n",
      " 8   TransactionAmount (INR)  1041614 non-null  float64\n",
      "dtypes: float64(2), int64(1), object(6)\n",
      "memory usage: 79.5+ MB\n"
     ]
    },
    {
     "data": {
      "text/plain": [
       "CustomerDOB\n",
       "1/1/1800    56292\n",
       "1/1/89        809\n",
       "1/1/90        784\n",
       "6/8/91        698\n",
       "1/1/91        665\n",
       "            ...  \n",
       "2/12/51         1\n",
       "20/3/52         1\n",
       "26/9/47         1\n",
       "4/10/41         1\n",
       "24/10/44        1\n",
       "Name: count, Length: 17233, dtype: int64"
      ]
     },
     "execution_count": 73,
     "metadata": {},
     "output_type": "execute_result"
    }
   ],
   "source": [
    "# Analizar estructura \n",
    "df = df.dropna()\n",
    "df.info()\n",
    "df.isna().sum()\n",
    "\n",
    "# Verificar DOB\n",
    "df['CustomerDOB'].value_counts()"
   ]
  },
  {
   "cell_type": "markdown",
   "metadata": {},
   "source": [
    "La fecha con más frecuencia es 1/1/1800, lo que podría ser indicativo de algun valor de default ya que tiene poco sentido dentro del contexto de la base de datos, para evitar algún tipo de sesgo y problemas más adelante con el modelo."
   ]
  },
  {
   "cell_type": "code",
   "execution_count": 74,
   "metadata": {},
   "outputs": [
    {
     "name": "stdout",
     "output_type": "stream",
     "text": [
      "<class 'pandas.core.frame.DataFrame'>\n",
      "Index: 985322 entries, 0 to 1048566\n",
      "Data columns (total 9 columns):\n",
      " #   Column                   Non-Null Count   Dtype  \n",
      "---  ------                   --------------   -----  \n",
      " 0   TransactionID            985322 non-null  object \n",
      " 1   CustomerID               985322 non-null  object \n",
      " 2   CustomerDOB              985322 non-null  object \n",
      " 3   CustGender               985322 non-null  object \n",
      " 4   CustLocation             985322 non-null  object \n",
      " 5   CustAccountBalance       985322 non-null  float64\n",
      " 6   TransactionDate          985322 non-null  object \n",
      " 7   TransactionTime          985322 non-null  int64  \n",
      " 8   TransactionAmount (INR)  985322 non-null  float64\n",
      "dtypes: float64(2), int64(1), object(6)\n",
      "memory usage: 75.2+ MB\n"
     ]
    },
    {
     "data": {
      "text/plain": [
       "CustomerDOB\n",
       "1/1/89      809\n",
       "1/1/90      784\n",
       "6/8/91      698\n",
       "1/1/91      665\n",
       "1/1/92      631\n",
       "           ... \n",
       "23/2/05       1\n",
       "28/11/42      1\n",
       "23/9/49       1\n",
       "14/3/40       1\n",
       "24/10/44      1\n",
       "Name: count, Length: 17232, dtype: int64"
      ]
     },
     "execution_count": 74,
     "metadata": {},
     "output_type": "execute_result"
    }
   ],
   "source": [
    "# Eliminar valores con 1/1/1800\n",
    "df = df.loc[~(df['CustomerDOB'] == '1/1/1800')]\n",
    "\n",
    "# Analizar estructura nuevamente\n",
    "df.info()\n",
    "df['CustomerDOB'].value_counts()"
   ]
  },
  {
   "cell_type": "markdown",
   "metadata": {},
   "source": [
    "Al eliminar estos datos se sigue teniendo un total del 94% de los datos de la base original, lo que sigue siendo representativo."
   ]
  },
  {
   "cell_type": "code",
   "execution_count": 75,
   "metadata": {},
   "outputs": [
    {
     "name": "stdout",
     "output_type": "stream",
     "text": [
      "Inspección después de formatear fecha\n"
     ]
    },
    {
     "data": {
      "text/html": [
       "<div>\n",
       "<style scoped>\n",
       "    .dataframe tbody tr th:only-of-type {\n",
       "        vertical-align: middle;\n",
       "    }\n",
       "\n",
       "    .dataframe tbody tr th {\n",
       "        vertical-align: top;\n",
       "    }\n",
       "\n",
       "    .dataframe thead th {\n",
       "        text-align: right;\n",
       "    }\n",
       "</style>\n",
       "<table border=\"1\" class=\"dataframe\">\n",
       "  <thead>\n",
       "    <tr style=\"text-align: right;\">\n",
       "      <th></th>\n",
       "      <th>TransactionID</th>\n",
       "      <th>CustomerID</th>\n",
       "      <th>CustomerDOB</th>\n",
       "      <th>CustGender</th>\n",
       "      <th>CustLocation</th>\n",
       "      <th>CustAccountBalance</th>\n",
       "      <th>TransactionDate</th>\n",
       "      <th>TransactionTime</th>\n",
       "      <th>TransactionAmount (INR)</th>\n",
       "    </tr>\n",
       "  </thead>\n",
       "  <tbody>\n",
       "    <tr>\n",
       "      <th>0</th>\n",
       "      <td>T1</td>\n",
       "      <td>C5841053</td>\n",
       "      <td>1994-01-10</td>\n",
       "      <td>F</td>\n",
       "      <td>JAMSHEDPUR</td>\n",
       "      <td>17819.05</td>\n",
       "      <td>2/8/16</td>\n",
       "      <td>143207</td>\n",
       "      <td>25.0</td>\n",
       "    </tr>\n",
       "    <tr>\n",
       "      <th>1</th>\n",
       "      <td>T2</td>\n",
       "      <td>C2142763</td>\n",
       "      <td>1957-04-04</td>\n",
       "      <td>M</td>\n",
       "      <td>JHAJJAR</td>\n",
       "      <td>2270.69</td>\n",
       "      <td>2/8/16</td>\n",
       "      <td>141858</td>\n",
       "      <td>27999.0</td>\n",
       "    </tr>\n",
       "    <tr>\n",
       "      <th>2</th>\n",
       "      <td>T3</td>\n",
       "      <td>C4417068</td>\n",
       "      <td>1996-11-26</td>\n",
       "      <td>F</td>\n",
       "      <td>MUMBAI</td>\n",
       "      <td>17874.44</td>\n",
       "      <td>2/8/16</td>\n",
       "      <td>142712</td>\n",
       "      <td>459.0</td>\n",
       "    </tr>\n",
       "    <tr>\n",
       "      <th>3</th>\n",
       "      <td>T4</td>\n",
       "      <td>C5342380</td>\n",
       "      <td>1973-09-14</td>\n",
       "      <td>F</td>\n",
       "      <td>MUMBAI</td>\n",
       "      <td>866503.21</td>\n",
       "      <td>2/8/16</td>\n",
       "      <td>142714</td>\n",
       "      <td>2060.0</td>\n",
       "    </tr>\n",
       "    <tr>\n",
       "      <th>4</th>\n",
       "      <td>T5</td>\n",
       "      <td>C9031234</td>\n",
       "      <td>1988-03-24</td>\n",
       "      <td>F</td>\n",
       "      <td>NAVI MUMBAI</td>\n",
       "      <td>6714.43</td>\n",
       "      <td>2/8/16</td>\n",
       "      <td>181156</td>\n",
       "      <td>1762.5</td>\n",
       "    </tr>\n",
       "  </tbody>\n",
       "</table>\n",
       "</div>"
      ],
      "text/plain": [
       "  TransactionID CustomerID CustomerDOB CustGender CustLocation  \\\n",
       "0            T1   C5841053  1994-01-10          F   JAMSHEDPUR   \n",
       "1            T2   C2142763  1957-04-04          M      JHAJJAR   \n",
       "2            T3   C4417068  1996-11-26          F       MUMBAI   \n",
       "3            T4   C5342380  1973-09-14          F       MUMBAI   \n",
       "4            T5   C9031234  1988-03-24          F  NAVI MUMBAI   \n",
       "\n",
       "   CustAccountBalance TransactionDate  TransactionTime  \\\n",
       "0            17819.05          2/8/16           143207   \n",
       "1             2270.69          2/8/16           141858   \n",
       "2            17874.44          2/8/16           142712   \n",
       "3           866503.21          2/8/16           142714   \n",
       "4             6714.43          2/8/16           181156   \n",
       "\n",
       "   TransactionAmount (INR)  \n",
       "0                     25.0  \n",
       "1                  27999.0  \n",
       "2                    459.0  \n",
       "3                   2060.0  \n",
       "4                   1762.5  "
      ]
     },
     "execution_count": 75,
     "metadata": {},
     "output_type": "execute_result"
    }
   ],
   "source": [
    "# Formatear fechas\n",
    "df['CustomerDOB'] = pd.to_datetime(df['CustomerDOB'], format = '%d/%m/%y')\n",
    "df.loc[df['CustomerDOB'].dt.year >= 2025, ['CustomerDOB']] -= pd.DateOffset(years = 100)\n",
    "print(\"Inspección después de formatear fecha\")\n",
    "df.head()"
   ]
  },
  {
   "cell_type": "code",
   "execution_count": 76,
   "metadata": {},
   "outputs": [
    {
     "name": "stdout",
     "output_type": "stream",
     "text": [
      "Inspección después de agregar edad\n"
     ]
    },
    {
     "data": {
      "text/html": [
       "<div>\n",
       "<style scoped>\n",
       "    .dataframe tbody tr th:only-of-type {\n",
       "        vertical-align: middle;\n",
       "    }\n",
       "\n",
       "    .dataframe tbody tr th {\n",
       "        vertical-align: top;\n",
       "    }\n",
       "\n",
       "    .dataframe thead th {\n",
       "        text-align: right;\n",
       "    }\n",
       "</style>\n",
       "<table border=\"1\" class=\"dataframe\">\n",
       "  <thead>\n",
       "    <tr style=\"text-align: right;\">\n",
       "      <th></th>\n",
       "      <th>TransactionID</th>\n",
       "      <th>CustomerID</th>\n",
       "      <th>CustGender</th>\n",
       "      <th>CustLocation</th>\n",
       "      <th>CustAccountBalance</th>\n",
       "      <th>TransactionDate</th>\n",
       "      <th>TransactionTime</th>\n",
       "      <th>TransactionAmount (INR)</th>\n",
       "      <th>Age</th>\n",
       "    </tr>\n",
       "  </thead>\n",
       "  <tbody>\n",
       "    <tr>\n",
       "      <th>0</th>\n",
       "      <td>T1</td>\n",
       "      <td>C5841053</td>\n",
       "      <td>F</td>\n",
       "      <td>JAMSHEDPUR</td>\n",
       "      <td>17819.05</td>\n",
       "      <td>2016-08-02</td>\n",
       "      <td>143207</td>\n",
       "      <td>25.0</td>\n",
       "      <td>31.101985</td>\n",
       "    </tr>\n",
       "    <tr>\n",
       "      <th>1</th>\n",
       "      <td>T2</td>\n",
       "      <td>C2142763</td>\n",
       "      <td>M</td>\n",
       "      <td>JHAJJAR</td>\n",
       "      <td>2270.69</td>\n",
       "      <td>2016-08-02</td>\n",
       "      <td>141858</td>\n",
       "      <td>27999.0</td>\n",
       "      <td>67.871321</td>\n",
       "    </tr>\n",
       "    <tr>\n",
       "      <th>2</th>\n",
       "      <td>T3</td>\n",
       "      <td>C4417068</td>\n",
       "      <td>F</td>\n",
       "      <td>MUMBAI</td>\n",
       "      <td>17874.44</td>\n",
       "      <td>2016-08-02</td>\n",
       "      <td>142712</td>\n",
       "      <td>459.0</td>\n",
       "      <td>28.224504</td>\n",
       "    </tr>\n",
       "    <tr>\n",
       "      <th>3</th>\n",
       "      <td>T4</td>\n",
       "      <td>C5342380</td>\n",
       "      <td>F</td>\n",
       "      <td>MUMBAI</td>\n",
       "      <td>866503.21</td>\n",
       "      <td>2016-08-02</td>\n",
       "      <td>142714</td>\n",
       "      <td>2060.0</td>\n",
       "      <td>51.425051</td>\n",
       "    </tr>\n",
       "    <tr>\n",
       "      <th>4</th>\n",
       "      <td>T5</td>\n",
       "      <td>C9031234</td>\n",
       "      <td>F</td>\n",
       "      <td>NAVI MUMBAI</td>\n",
       "      <td>6714.43</td>\n",
       "      <td>2016-08-02</td>\n",
       "      <td>181156</td>\n",
       "      <td>1762.5</td>\n",
       "      <td>36.900753</td>\n",
       "    </tr>\n",
       "  </tbody>\n",
       "</table>\n",
       "</div>"
      ],
      "text/plain": [
       "  TransactionID CustomerID CustGender CustLocation  CustAccountBalance  \\\n",
       "0            T1   C5841053          F   JAMSHEDPUR            17819.05   \n",
       "1            T2   C2142763          M      JHAJJAR             2270.69   \n",
       "2            T3   C4417068          F       MUMBAI            17874.44   \n",
       "3            T4   C5342380          F       MUMBAI           866503.21   \n",
       "4            T5   C9031234          F  NAVI MUMBAI             6714.43   \n",
       "\n",
       "  TransactionDate  TransactionTime  TransactionAmount (INR)        Age  \n",
       "0      2016-08-02           143207                     25.0  31.101985  \n",
       "1      2016-08-02           141858                  27999.0  67.871321  \n",
       "2      2016-08-02           142712                    459.0  28.224504  \n",
       "3      2016-08-02           142714                   2060.0  51.425051  \n",
       "4      2016-08-02           181156                   1762.5  36.900753  "
      ]
     },
     "execution_count": 76,
     "metadata": {},
     "output_type": "execute_result"
    }
   ],
   "source": [
    "# Agregar edad del cliente (Es un mejor referente)\n",
    "df['TransactionDate'] = pd.to_datetime(df['TransactionDate'], format = '%d/%m/%y')\n",
    "df['Age'] = (pd.to_datetime('today') - pd.to_datetime(df['CustomerDOB'])).dt.days / 365.25\n",
    "\n",
    "# Eliminar columnas que ya no serviran como DOB\n",
    "df = df.drop(columns=['CustomerDOB'])\n",
    "\n",
    "print(\"Inspección después de agregar edad\")\n",
    "df.head()"
   ]
  },
  {
   "cell_type": "code",
   "execution_count": 77,
   "metadata": {},
   "outputs": [
    {
     "name": "stdout",
     "output_type": "stream",
     "text": [
      "Antes de Encoding:\n"
     ]
    },
    {
     "data": {
      "text/plain": [
       "CustGender\n",
       "M    712454\n",
       "F    272868\n",
       "Name: count, dtype: int64"
      ]
     },
     "execution_count": 77,
     "metadata": {},
     "output_type": "execute_result"
    }
   ],
   "source": [
    "print(\"Antes de Encoding:\")\n",
    "df['CustGender'].value_counts()"
   ]
  },
  {
   "cell_type": "code",
   "execution_count": 78,
   "metadata": {},
   "outputs": [
    {
     "name": "stdout",
     "output_type": "stream",
     "text": [
      "Después de Encoding:\n"
     ]
    },
    {
     "name": "stderr",
     "output_type": "stream",
     "text": [
      "C:\\Users\\danin\\AppData\\Local\\Temp\\ipykernel_26568\\3645358539.py:2: FutureWarning: Downcasting behavior in `replace` is deprecated and will be removed in a future version. To retain the old behavior, explicitly call `result.infer_objects(copy=False)`. To opt-in to the future behavior, set `pd.set_option('future.no_silent_downcasting', True)`\n",
      "  df['CustGender'] = df['CustGender'].replace({'F': 0, 'M': 1})\n"
     ]
    },
    {
     "data": {
      "text/plain": [
       "CustGender\n",
       "1    712454\n",
       "0    272868\n",
       "Name: count, dtype: int64"
      ]
     },
     "execution_count": 78,
     "metadata": {},
     "output_type": "execute_result"
    }
   ],
   "source": [
    "# Hacer enconding de variables F y M a 0 y 1\n",
    "df['CustGender'] = df['CustGender'].replace({'F': 0, 'M': 1})\n",
    "\n",
    "print(\"Después de Encoding:\")\n",
    "df['CustGender'].value_counts()"
   ]
  },
  {
   "cell_type": "code",
   "execution_count": 81,
   "metadata": {},
   "outputs": [
    {
     "data": {
      "text/plain": [
       "CustLocation\n",
       "4625    97679\n",
       "672     77751\n",
       "5066    76380\n",
       "2689    70518\n",
       "1805    67335\n",
       "        ...  \n",
       "3375        1\n",
       "3229        1\n",
       "1306        1\n",
       "1672        1\n",
       "2985        1\n",
       "Name: count, Length: 8164, dtype: int64"
      ]
     },
     "execution_count": 81,
     "metadata": {},
     "output_type": "execute_result"
    }
   ],
   "source": [
    "from sklearn.preprocessing import LabelEncoder\n",
    "\n",
    "encoder = LabelEncoder()\n",
    "df['CustLocation'] = encoder.fit_transform(df['CustLocation'])\n",
    "df['CustLocation'].value_counts()"
   ]
  },
  {
   "cell_type": "code",
   "execution_count": 82,
   "metadata": {},
   "outputs": [
    {
     "data": {
      "text/html": [
       "<div>\n",
       "<style scoped>\n",
       "    .dataframe tbody tr th:only-of-type {\n",
       "        vertical-align: middle;\n",
       "    }\n",
       "\n",
       "    .dataframe tbody tr th {\n",
       "        vertical-align: top;\n",
       "    }\n",
       "\n",
       "    .dataframe thead th {\n",
       "        text-align: right;\n",
       "    }\n",
       "</style>\n",
       "<table border=\"1\" class=\"dataframe\">\n",
       "  <thead>\n",
       "    <tr style=\"text-align: right;\">\n",
       "      <th></th>\n",
       "      <th>TransactionID</th>\n",
       "      <th>CustomerID</th>\n",
       "      <th>CustGender</th>\n",
       "      <th>CustLocation</th>\n",
       "      <th>CustAccountBalance</th>\n",
       "      <th>TransactionDate</th>\n",
       "      <th>TransactionTime</th>\n",
       "      <th>TransactionAmount (INR)</th>\n",
       "      <th>Age</th>\n",
       "    </tr>\n",
       "  </thead>\n",
       "  <tbody>\n",
       "    <tr>\n",
       "      <th>0</th>\n",
       "      <td>T1</td>\n",
       "      <td>C5841053</td>\n",
       "      <td>0</td>\n",
       "      <td>3117</td>\n",
       "      <td>17819.05</td>\n",
       "      <td>2016-08-02</td>\n",
       "      <td>143207</td>\n",
       "      <td>25.0</td>\n",
       "      <td>31.101985</td>\n",
       "    </tr>\n",
       "    <tr>\n",
       "      <th>1</th>\n",
       "      <td>T2</td>\n",
       "      <td>C2142763</td>\n",
       "      <td>1</td>\n",
       "      <td>3174</td>\n",
       "      <td>2270.69</td>\n",
       "      <td>2016-08-02</td>\n",
       "      <td>141858</td>\n",
       "      <td>27999.0</td>\n",
       "      <td>67.871321</td>\n",
       "    </tr>\n",
       "    <tr>\n",
       "      <th>2</th>\n",
       "      <td>T3</td>\n",
       "      <td>C4417068</td>\n",
       "      <td>0</td>\n",
       "      <td>4625</td>\n",
       "      <td>17874.44</td>\n",
       "      <td>2016-08-02</td>\n",
       "      <td>142712</td>\n",
       "      <td>459.0</td>\n",
       "      <td>28.224504</td>\n",
       "    </tr>\n",
       "    <tr>\n",
       "      <th>3</th>\n",
       "      <td>T4</td>\n",
       "      <td>C5342380</td>\n",
       "      <td>0</td>\n",
       "      <td>4625</td>\n",
       "      <td>866503.21</td>\n",
       "      <td>2016-08-02</td>\n",
       "      <td>142714</td>\n",
       "      <td>2060.0</td>\n",
       "      <td>51.425051</td>\n",
       "    </tr>\n",
       "    <tr>\n",
       "      <th>4</th>\n",
       "      <td>T5</td>\n",
       "      <td>C9031234</td>\n",
       "      <td>0</td>\n",
       "      <td>4965</td>\n",
       "      <td>6714.43</td>\n",
       "      <td>2016-08-02</td>\n",
       "      <td>181156</td>\n",
       "      <td>1762.5</td>\n",
       "      <td>36.900753</td>\n",
       "    </tr>\n",
       "  </tbody>\n",
       "</table>\n",
       "</div>"
      ],
      "text/plain": [
       "  TransactionID CustomerID  CustGender  CustLocation  CustAccountBalance  \\\n",
       "0            T1   C5841053           0          3117            17819.05   \n",
       "1            T2   C2142763           1          3174             2270.69   \n",
       "2            T3   C4417068           0          4625            17874.44   \n",
       "3            T4   C5342380           0          4625           866503.21   \n",
       "4            T5   C9031234           0          4965             6714.43   \n",
       "\n",
       "  TransactionDate  TransactionTime  TransactionAmount (INR)        Age  \n",
       "0      2016-08-02           143207                     25.0  31.101985  \n",
       "1      2016-08-02           141858                  27999.0  67.871321  \n",
       "2      2016-08-02           142712                    459.0  28.224504  \n",
       "3      2016-08-02           142714                   2060.0  51.425051  \n",
       "4      2016-08-02           181156                   1762.5  36.900753  "
      ]
     },
     "execution_count": 82,
     "metadata": {},
     "output_type": "execute_result"
    }
   ],
   "source": [
    "df.head()"
   ]
  },
  {
   "cell_type": "code",
   "execution_count": 90,
   "metadata": {},
   "outputs": [
    {
     "data": {
      "text/html": [
       "<div>\n",
       "<style scoped>\n",
       "    .dataframe tbody tr th:only-of-type {\n",
       "        vertical-align: middle;\n",
       "    }\n",
       "\n",
       "    .dataframe tbody tr th {\n",
       "        vertical-align: top;\n",
       "    }\n",
       "\n",
       "    .dataframe thead th {\n",
       "        text-align: right;\n",
       "    }\n",
       "</style>\n",
       "<table border=\"1\" class=\"dataframe\">\n",
       "  <thead>\n",
       "    <tr style=\"text-align: right;\">\n",
       "      <th></th>\n",
       "      <th>Age</th>\n",
       "      <th>CustGender</th>\n",
       "      <th>CustLocation</th>\n",
       "      <th>CustAccountBalance</th>\n",
       "      <th>TransactionTime</th>\n",
       "      <th>TransactionAmount (INR)</th>\n",
       "    </tr>\n",
       "  </thead>\n",
       "  <tbody>\n",
       "    <tr>\n",
       "      <th>0</th>\n",
       "      <td>-0.977393</td>\n",
       "      <td>-1.615854</td>\n",
       "      <td>-0.230026</td>\n",
       "      <td>-0.107888</td>\n",
       "      <td>-0.277496</td>\n",
       "      <td>-0.232489</td>\n",
       "    </tr>\n",
       "    <tr>\n",
       "      <th>1</th>\n",
       "      <td>3.224657</td>\n",
       "      <td>0.618868</td>\n",
       "      <td>-0.202676</td>\n",
       "      <td>-0.126898</td>\n",
       "      <td>-0.303808</td>\n",
       "      <td>4.323714</td>\n",
       "    </tr>\n",
       "    <tr>\n",
       "      <th>2</th>\n",
       "      <td>-1.306236</td>\n",
       "      <td>-1.615854</td>\n",
       "      <td>0.493532</td>\n",
       "      <td>-0.107820</td>\n",
       "      <td>-0.287151</td>\n",
       "      <td>-0.161802</td>\n",
       "    </tr>\n",
       "    <tr>\n",
       "      <th>3</th>\n",
       "      <td>1.345155</td>\n",
       "      <td>-1.615854</td>\n",
       "      <td>0.493532</td>\n",
       "      <td>0.929744</td>\n",
       "      <td>-0.287112</td>\n",
       "      <td>0.098957</td>\n",
       "    </tr>\n",
       "    <tr>\n",
       "      <th>4</th>\n",
       "      <td>-0.314702</td>\n",
       "      <td>-1.615854</td>\n",
       "      <td>0.656669</td>\n",
       "      <td>-0.121465</td>\n",
       "      <td>0.462674</td>\n",
       "      <td>0.050503</td>\n",
       "    </tr>\n",
       "  </tbody>\n",
       "</table>\n",
       "</div>"
      ],
      "text/plain": [
       "        Age  CustGender  CustLocation  CustAccountBalance  TransactionTime  \\\n",
       "0 -0.977393   -1.615854     -0.230026           -0.107888        -0.277496   \n",
       "1  3.224657    0.618868     -0.202676           -0.126898        -0.303808   \n",
       "2 -1.306236   -1.615854      0.493532           -0.107820        -0.287151   \n",
       "3  1.345155   -1.615854      0.493532            0.929744        -0.287112   \n",
       "4 -0.314702   -1.615854      0.656669           -0.121465         0.462674   \n",
       "\n",
       "   TransactionAmount (INR)  \n",
       "0                -0.232489  \n",
       "1                 4.323714  \n",
       "2                -0.161802  \n",
       "3                 0.098957  \n",
       "4                 0.050503  "
      ]
     },
     "execution_count": 90,
     "metadata": {},
     "output_type": "execute_result"
    }
   ],
   "source": [
    "# Seleccionar variables numéricas\n",
    "features = [\"Age\", \"CustGender\", \"CustLocation\", \"CustAccountBalance\", \"TransactionTime\", \"TransactionAmount (INR)\"]\n",
    "data = df[features]\n",
    "\n",
    "# Normalizar con Z-score\n",
    "scaler = StandardScaler()\n",
    "data_scaled = scaler.fit_transform(data)\n",
    "\n",
    "# Suponiendo que df es tu DataFrame original\n",
    "data_scaled_PD = pd.DataFrame(data_scaled, columns=data.columns)\n",
    "\n",
    "# Ahora sí puedes usar .head()\n",
    "data_scaled_PD.head()\n"
   ]
  },
  {
   "cell_type": "markdown",
   "metadata": {},
   "source": [
    "Ahora se tiene una base de datos normalizada y con variables estrictamente númericas para poder utilizarse dentro del modelo de **K-Means**.\n",
    "\n",
    "---\n",
    "\n",
    "#### **Task 2.1.1** - K-Means<br> \n",
    "En el mercado tan competitivo de la actualidad, el tener un mejor entendimiento de los clientes ya no es algo opcional para las empresas, sino un *must* estratégico y competitivo. Esto debido a que los *insights* que se extraen de estos deberían guiar las operaciones. La segmentación de clientes es un proceso en el cual se divide a las personas que usan los servicios de una empresa dada, basándose en características compartidas entre los grupos. Las diferentes empresas pueden contar con distintos tipos de datos de sus clientes desde edad, tipo de vida, ingresos y mucho más.\n",
    "\n",
    "Para este task no usen librerías, sino implementen el algoritmo por ustedes mismos. Pueden usar librerías para la lectura del archivo, métricas de desempeño, división de dataset, etc. Pero el algoritmo principal deben hacerlo ustedes. \n",
    "\n",
    "Usando el dataset de este enlace, implemente un modelo de K-Means para segmentar a los clientes en la cantidad de grupos que ustedes decidan. Para ello considere lo siguiente: <br> \n",
    "- Si considera necesario haga split del dataset como en los laboratorios anteriores \n",
    "    - Recuerde que es un problema de aprendizaje no supervisado \n",
    "- Seleccione el número de clusters que mejor se adapte al dataset. Justifique su elección (Utilice la técnica vista en clase o la que investigó para el Task 1) \n",
    "- Muestre al menos una gráfica que muestre cómo se dividen los clusters seleccionados \n",
    "    - Seleccione dos features, justifique su elección \n",
    "        - Puede considerar usar Principal Component Analysis (PCA) \n",
    "- Provea una métrica de desempeño, justificando su elección \n"
   ]
  },
  {
   "cell_type": "code",
   "execution_count": 91,
   "metadata": {},
   "outputs": [
    {
     "data": {
      "image/png": "[encoded data removed]",
      "text/plain": [
       "<Figure size 640x480 with 1 Axes>"
      ]
     },
     "metadata": {},
     "output_type": "display_data"
    }
   ],
   "source": [
    "# Librerias\n",
    "from sklearn.preprocessing import StandardScaler, LabelEncoder\n",
    "from sklearn.decomposition import PCA\n",
    "\n",
    "# Implementar K-Means desde cero\n",
    "def initialize_centroids(data, k):\n",
    "    return data[np.random.choice(data.shape[0], k, replace=False)]\n",
    "\n",
    "def assign_clusters(data, centroids):\n",
    "    distances = np.linalg.norm(data[:, np.newaxis] - centroids, axis=2)\n",
    "    return np.argmin(distances, axis=1)\n",
    "\n",
    "def update_centroids(data, labels, k):\n",
    "    return np.array([data[labels == i].mean(axis=0) for i in range(k)])\n",
    "\n",
    "def kmeans(data, k, max_iters=100, tol=1e-4):\n",
    "    centroids = initialize_centroids(data, k)\n",
    "    for _ in range(max_iters):\n",
    "        labels = assign_clusters(data, centroids)\n",
    "        new_centroids = update_centroids(data, labels, k)\n",
    "        if np.linalg.norm(new_centroids - centroids) < tol:\n",
    "            break\n",
    "        centroids = new_centroids\n",
    "    return labels, centroids\n",
    "\n",
    "# Determinar el número óptimo de clusters (método del codo)\n",
    "inertias = []\n",
    "k_values = range(1, 11)\n",
    "for k in k_values:\n",
    "    labels, centroids = kmeans(data_scaled, k)\n",
    "    inertia = np.sum((data_scaled - centroids[labels]) ** 2)\n",
    "    inertias.append(inertia)\n",
    "\n",
    "plt.plot(k_values, inertias, marker='o')\n",
    "plt.xlabel(\"Número de Clusters\")\n",
    "plt.ylabel(\"Inercia\")\n",
    "plt.title(\"Método del Codo\")\n",
    "plt.show()"
   ]
  },
  {
   "cell_type": "markdown",
   "metadata": {},
   "source": [
    "Con la gráfica se puede determinar que para este set de datos el **Mejor** número de **Clusters** es k = 6, donde la reducción empieza a ser mínima o se forma un \"codo\"."
   ]
  },
  {
   "cell_type": "code",
   "execution_count": 111,
   "metadata": {},
   "outputs": [
    {
     "data": {
      "image/png": "[encoded data removed]",
      "text/plain": [
       "<Figure size 640x480 with 2 Axes>"
      ]
     },
     "metadata": {},
     "output_type": "display_data"
    }
   ],
   "source": [
    "# Aplicar K-Means con el mejor número de clusters\n",
    "k_opt = 6\n",
    "labels, centroids = kmeans(data_scaled, k_opt)\n",
    "df[\"Cluster\"] = labels\n",
    "\n",
    "# Visualización con PCA\n",
    "pca = PCA(n_components=2)\n",
    "data_pca = pca.fit_transform(data_scaled)\n",
    "plt.scatter(data_pca[:, 0], data_pca[:, 1], c=labels, cmap='viridis', alpha=0.5)\n",
    "plt.xlabel(\"PCA 1\")\n",
    "plt.ylabel(\"PCA 2\")\n",
    "plt.title(\"Clusters de Clientes (K-Means)\")\n",
    "plt.colorbar(label=\"Cluster\")\n",
    "plt.show()"
   ]
  },
  {
   "cell_type": "code",
   "execution_count": null,
   "metadata": {},
   "outputs": [
    {
     "name": "stdout",
     "output_type": "stream",
     "text": [
      "Distancia promedio intra-cluster: 1.3030632551926424\n"
     ]
    }
   ],
   "source": [
    "def intra_cluster_distance(data, labels, centroids):\n",
    "    total_distance = 0\n",
    "    for i in range(len(centroids)):\n",
    "        cluster_points = data[labels == i]  # Puntos del cluster i\n",
    "        distances = np.linalg.norm(cluster_points - centroids[i], axis=1)  # Distancia a su centroide\n",
    "        total_distance += distances.sum()\n",
    "    return total_distance / len(data)  # Promedio de todas las distancias\n",
    "\n",
    "# Calcular la distancia promedio intra-cluster\n",
    "intra_distance = intra_cluster_distance(data_scaled, labels, centroids)\n",
    "print(f\"Distancia promedio intra-cluster: {intra_distance}\")"
   ]
  },
  {
   "cell_type": "markdown",
   "metadata": {},
   "source": [
    "La **distancia promedio intra-cluster** de 1.3031 que has obtenido es una métrica útil para evaluar la compactación de los clusters generados, esta métrica mide la distancia promedio entre los puntos dentro de un cluster y su respectivo centroide. Un valor bajo indica que los puntos dentro de un cluster están relativamente cerca del centroide, lo que sugiere que los clusters están bien definidos y son compactos. Por el contrario, un valor alto sugiere que los puntos están dispersos dentro del cluster, lo que puede indicar que los clusters no están bien formados. En este caso, un valor de 1.3031 sugiere que los puntos dentro de los clusters no están extremadamente dispersos, lo que es un buen indicio de que los grupos están relativamente bien agrupados.<br>\n",
    "\n",
    "---\n",
    "\n",
    "Luego: <br>\n",
    "- Repita los pasos para entrenar su modelo, pero ahora usando librerías y compare los resultados. ¿Cuál implementación fue mejor? ¿Por qué? (Responda como parte de su Jupyter Notebook en una celda markdown) "
   ]
  },
  {
   "cell_type": "code",
   "execution_count": 115,
   "metadata": {},
   "outputs": [
    {
     "data": {
      "image/png": "[encoded data removed]",
      "text/plain": [
       "<Figure size 640x480 with 2 Axes>"
      ]
     },
     "metadata": {},
     "output_type": "display_data"
    },
    {
     "name": "stdout",
     "output_type": "stream",
     "text": [
      "Distancia promedio intra-cluster: 1.3170993172998848\n"
     ]
    }
   ],
   "source": [
    "from sklearn.cluster import KMeans\n",
    "from sklearn.metrics import silhouette_score\n",
    "\n",
    "# Aplicar KMeans usando la librería sklearn con el número óptimo de clusters\n",
    "k_opt = 6  # Usamos el mismo \n",
    "kmeans_sklearn = KMeans(n_clusters=k_opt, random_state=42)\n",
    "labels_sklearn = kmeans_sklearn.fit_predict(data_scaled)\n",
    "\n",
    "# Obtener los centros de los clusters\n",
    "centroids_sklearn = kmeans_sklearn.cluster_centers_\n",
    "\n",
    "# Visualización con PCA para los resultados de sklearn\n",
    "pca = PCA(n_components=2)\n",
    "data_pca_sklearn = pca.fit_transform(data_scaled)\n",
    "\n",
    "# Gráfico con los resultados de sklearn\n",
    "plt.scatter(data_pca_sklearn[:, 0], data_pca_sklearn[:, 1], c=labels_sklearn, cmap='viridis', alpha=0.5)\n",
    "plt.xlabel(\"PCA 1\")\n",
    "plt.ylabel(\"PCA 2\")\n",
    "plt.title(\"Clusters con K-Means de sklearn\")\n",
    "plt.colorbar(label=\"Cluster\")\n",
    "plt.show()\n",
    "\n",
    "\n",
    "def intra_cluster_distance(data, labels, centroids):\n",
    "    total_distance = 0\n",
    "    for i in range(len(centroids)):\n",
    "        cluster_points = data[labels == i]  # Puntos del cluster i\n",
    "        distances = np.linalg.norm(cluster_points - centroids[i], axis=1)  # Distancia a su centroide\n",
    "        total_distance += distances.sum()\n",
    "    return total_distance / len(data)  # Promedio de todas las distancias\n",
    "\n",
    "# Calcular la distancia promedio intra-cluster\n",
    "intra_distance = intra_cluster_distance(data_scaled, labels_sklearn, centroids_sklearn)\n",
    "print(f\"Distancia promedio intra-cluster: {intra_distance}\")\n"
   ]
  },
  {
   "cell_type": "markdown",
   "metadata": {},
   "source": [
    "La **distancia promedio intra-cluster** de 1.3171 obtenida al usar la implementación de K-Means de la librería *sklearn* es muy similar al valor obtenido previamente con la implementación manual de 1.3031. Un valor de 1.3171 indica que los puntos dentro de los clusters generados por la libreria están ligeramente más cerca de sus respectivos centroides en promedio, lo que sugiere que los clusters son un poco menos compactos en comparación con los generados por la implementación manual. Sin embargo, la diferencia entre ambos valores no es muy grande, lo que indica que ambas implementaciones están logrando un rendimiento similar en cuanto a la compactación de los clusters.\n",
    "\n",
    "En cuanto a cuál implementación fue mejor, se puede argumentar que la implementación de *sklearn* es más eficiente y probablemente más precisa, ya que esta librería está optimizada y probada para manejar grandes volúmenes de datos, implementando mejoras internas en el algoritmo K-Means, como la inicialización de centroides mediante el método de *k-means++*, lo que generalmente conduce a una convergencia más rápida y a clusters mejor definidos.\n",
    "\n"
   ]
  }
 ],
 "metadata": {
  "kernelspec": {
   "display_name": "base",
   "language": "python",
   "name": "python3"
  },
  "language_info": {
   "codemirror_mode": {
    "name": "ipython",
    "version": 3
   },
   "file_extension": ".py",
   "mimetype": "text/x-python",
   "name": "python",
   "nbconvert_exporter": "python",
   "pygments_lexer": "ipython3",
   "version": "3.12.7"
  }
 },
 "nbformat": 4,
 "nbformat_minor": 2
}
