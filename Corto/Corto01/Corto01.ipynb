{
 "cells": [
  {
   "cell_type": "markdown",
   "metadata": {},
   "source": [
    "# **Corto 1** \n",
    "\n",
    "**Daniela Navas**\n",
    "\n",
    "---\n",
    "\n",
    "## **Task** - Frozen Lake\n",
    "\n",
    "El juego de Frozen Lake consiste en llevar al personaje de un punto de inicio hasta la meta, cuidando no caer en ningún agujero, además se debe considerar que algunas veces el jugador no se moverá en la dirección esperada debido a la naturaleza resbaladiza del hielo.  \n",
    "\n",
    "Este juego se desempeña en un tablero de 4x4, estando siempre la meta en el último cuadro. Los agujeros están distribuidos de forma aleatoria, además que cada vez que se genere el juego debe de generarse un nuevo mundo.\n",
    "\n",
    "Para este task, no debe implementar todo desde cero, por el contrario debe centrarse en la definición de la política o método de aprendizaje a ser utilizado (Q-learning, MDP libre de modelos, MDP basado en modelos, etc). Por ello, usará la librería de Gymnasium (previamente soportada por OpenIA) para poder desarrollar una solución para este juego.\n",
    "\n",
    "Usando la mencionada librería tendrá implementandos ya el espacio de acciones, el espacio observable, el estado inicial, el conjunto de acciones, los finales de episodio, además de funciones que le darán información. Para mayor información visiten este enlace.  \n",
    "\n",
    "En conclusión, su trabajo para este task es implementar un agente inteligente que resuelva el juego de Frozen Lake con el argumento de slippery=True, usando un algoritmo de aprendizaje por refuerzo.  "
   ]
  },
  {
   "cell_type": "markdown",
   "metadata": {},
   "source": []
  }
 ],
 "metadata": {
  "kernelspec": {
   "display_name": "base",
   "language": "python",
   "name": "python3"
  },
  "language_info": {
   "name": "python",
   "version": "3.12.3"
  }
 },
 "nbformat": 4,
 "nbformat_minor": 2
}
